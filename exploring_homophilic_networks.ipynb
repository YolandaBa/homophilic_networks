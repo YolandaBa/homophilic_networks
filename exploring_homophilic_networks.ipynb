{
 "cells": [
  {
   "cell_type": "markdown",
   "metadata": {},
   "source": [
    "<img style='float: left;' src='https://www.gesis.org/fileadmin/styles/img/gs_home_logo_en.svg'>"
   ]
  },
  {
   "cell_type": "markdown",
   "metadata": {},
   "source": [
    "# Exploring homophilic networks\n",
    "Authors: [Fariba Karimi](https://www.gesis.org/person/fariba.karimi), [Claudia Wagner](https://www.gesis.org/person/claudia.wagner), & [Markus Strohmaier](https://www.gesis.org/person/markus.strohmaier)"
   ]
  },
  {
   "cell_type": "markdown",
   "metadata": {},
   "source": [
    "Homophily is the mechanism to associate with similar others. We have shown that, when minority groups exist, homophily can explain the ranking of minorities ([Karimi, Génois, Wagner et al., 2018](https://doi.org/10.1038/s41598-018-29405-7)) as well as perception biases in social networks ([Lee, Karimi, Wagner et al., 2019](https://doi.org/10.1038/s41562-019-0677-4)). This effect derives from the situation that the attention that members of the minority get is structurally determined by the extent to which homophily guides behavior and to which relative group sizes limit opportunities.\n",
    "\n",
    "This notebook lets you explore the network generator employed in our two papers. See how patterns change when you tune the fraction of the **minority** group and the strength of the **homophily** mechanism. The number of **nodes** sets the network size, and the number of **new_edges** sets with how many edges a newly arriving node attaches to the network."
   ]
  },
  {
   "cell_type": "code",
   "execution_count": 2,
   "metadata": {},
   "outputs": [],
   "source": [
    "from homophilic_networks import explorer"
   ]
  },
  {
   "cell_type": "code",
   "execution_count": 3,
   "metadata": {},
   "outputs": [
    {
     "data": {
      "application/vnd.jupyter.widget-view+json": {
       "model_id": "a1a9783c48cb4ea2ace73b8cac15554c",
       "version_major": 2,
       "version_minor": 0
      },
      "text/plain": [
       "interactive(children=(IntSlider(value=100, description='nodes', max=200, min=10, step=10), IntSlider(value=2, …"
      ]
     },
     "metadata": {},
     "output_type": "display_data"
    }
   ],
   "source": [
    "explorer()"
   ]
  },
  {
   "cell_type": "markdown",
   "metadata": {},
   "source": [
    "Please cite as: Karimi, F., Wagner, C., & Strohmaier, M. (2020). Exploring homohilic networks. url:[github.com/gesiscss/homophilic_networks](https://github.com/gesiscss/homophilic_networks)"
   ]
  },
  {
   "cell_type": "markdown",
   "metadata": {},
   "source": [
    "## References\n",
    "Karimi, F., Génois, M., Wagner, C., Singer, P., & Strohmaier, M. (2018). Homophily influences ranking of minorities in social networks. *Scientific Reports*, *8*(1), 1–12. doi:[10.1038/s41598-018-29405-7](https://doi.org/10.1038/s41598-018-29405-7)\n",
    "\n",
    "Lee, E., Karimi, F., Wagner, C., Jo, H.-H., Strohmaier, M., & Galesic, M. (2019). Homophily and minority-group size explain perception biases in social networks. *Nature Human Behaviour*, *3*, 1078–1087. doi:[10.1038/s41562-019-0677-4](https://doi.org/10.1038/s41562-019-0677-4)"
   ]
  }
 ],
 "metadata": {
  "kernelspec": {
   "display_name": "Python 3",
   "language": "python",
   "name": "python3"
  },
  "language_info": {
   "codemirror_mode": {
    "name": "ipython",
    "version": 3
   },
   "file_extension": ".py",
   "mimetype": "text/x-python",
   "name": "python",
   "nbconvert_exporter": "python",
   "pygments_lexer": "ipython3",
   "version": "3.9.13"
  }
 },
 "nbformat": 4,
 "nbformat_minor": 2
}
